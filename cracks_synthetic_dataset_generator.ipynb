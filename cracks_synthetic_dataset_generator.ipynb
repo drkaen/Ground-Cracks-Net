{
  "nbformat": 4,
  "nbformat_minor": 0,
  "metadata": {
    "colab": {
      "name": "CracksDataset.ipynb",
      "provenance": [],
      "collapsed_sections": [],
      "authorship_tag": "ABX9TyPHRWVZF5vrFdV0x/PXv9Ht"
    },
    "kernelspec": {
      "name": "python3",
      "display_name": "Python 3"
    },
    "language_info": {
      "name": "python"
    },
    "widgets": {
      "application/vnd.jupyter.widget-state+json": {
        "7f7a557e55f245f5a3e66a793bf332a3": {
          "model_module": "@jupyter-widgets/controls",
          "model_name": "HBoxModel",
          "model_module_version": "1.5.0",
          "state": {
            "_view_name": "HBoxView",
            "_dom_classes": [],
            "_model_name": "HBoxModel",
            "_view_module": "@jupyter-widgets/controls",
            "_model_module_version": "1.5.0",
            "_view_count": null,
            "_view_module_version": "1.5.0",
            "box_style": "",
            "layout": "IPY_MODEL_edf0e9a428844c9ca524e5a9e5b784bc",
            "_model_module": "@jupyter-widgets/controls",
            "children": [
              "IPY_MODEL_96ef4f5b765149f1b2ea56c7ff056fbc",
              "IPY_MODEL_5a6aa297ac204451b72664050d398eff",
              "IPY_MODEL_442173be66aa47a78702019a98983109"
            ]
          }
        },
        "edf0e9a428844c9ca524e5a9e5b784bc": {
          "model_module": "@jupyter-widgets/base",
          "model_name": "LayoutModel",
          "model_module_version": "1.2.0",
          "state": {
            "_view_name": "LayoutView",
            "grid_template_rows": null,
            "right": null,
            "justify_content": null,
            "_view_module": "@jupyter-widgets/base",
            "overflow": null,
            "_model_module_version": "1.2.0",
            "_view_count": null,
            "flex_flow": null,
            "width": null,
            "min_width": null,
            "border": null,
            "align_items": null,
            "bottom": null,
            "_model_module": "@jupyter-widgets/base",
            "top": null,
            "grid_column": null,
            "overflow_y": null,
            "overflow_x": null,
            "grid_auto_flow": null,
            "grid_area": null,
            "grid_template_columns": null,
            "flex": null,
            "_model_name": "LayoutModel",
            "justify_items": null,
            "grid_row": null,
            "max_height": null,
            "align_content": null,
            "visibility": null,
            "align_self": null,
            "height": null,
            "min_height": null,
            "padding": null,
            "grid_auto_rows": null,
            "grid_gap": null,
            "max_width": null,
            "order": null,
            "_view_module_version": "1.2.0",
            "grid_template_areas": null,
            "object_position": null,
            "object_fit": null,
            "grid_auto_columns": null,
            "margin": null,
            "display": null,
            "left": null
          }
        },
        "96ef4f5b765149f1b2ea56c7ff056fbc": {
          "model_module": "@jupyter-widgets/controls",
          "model_name": "HTMLModel",
          "model_module_version": "1.5.0",
          "state": {
            "_view_name": "HTMLView",
            "style": "IPY_MODEL_4d5f8226be354b22ba808c5fe6b55007",
            "_dom_classes": [],
            "description": "",
            "_model_name": "HTMLModel",
            "placeholder": "​",
            "_view_module": "@jupyter-widgets/controls",
            "_model_module_version": "1.5.0",
            "value": "100%",
            "_view_count": null,
            "_view_module_version": "1.5.0",
            "description_tooltip": null,
            "_model_module": "@jupyter-widgets/controls",
            "layout": "IPY_MODEL_22639712b2694136a931921c11833a01"
          }
        },
        "5a6aa297ac204451b72664050d398eff": {
          "model_module": "@jupyter-widgets/controls",
          "model_name": "FloatProgressModel",
          "model_module_version": "1.5.0",
          "state": {
            "_view_name": "ProgressView",
            "style": "IPY_MODEL_a9f6f55603dd48789b3a4ca2693a3855",
            "_dom_classes": [],
            "description": "",
            "_model_name": "FloatProgressModel",
            "bar_style": "success",
            "max": 5,
            "_view_module": "@jupyter-widgets/controls",
            "_model_module_version": "1.5.0",
            "value": 5,
            "_view_count": null,
            "_view_module_version": "1.5.0",
            "orientation": "horizontal",
            "min": 0,
            "description_tooltip": null,
            "_model_module": "@jupyter-widgets/controls",
            "layout": "IPY_MODEL_7ac087061d5c471d860480fc01b0264a"
          }
        },
        "442173be66aa47a78702019a98983109": {
          "model_module": "@jupyter-widgets/controls",
          "model_name": "HTMLModel",
          "model_module_version": "1.5.0",
          "state": {
            "_view_name": "HTMLView",
            "style": "IPY_MODEL_d96abc39a9e5462ca02b70bb4e6c2df5",
            "_dom_classes": [],
            "description": "",
            "_model_name": "HTMLModel",
            "placeholder": "​",
            "_view_module": "@jupyter-widgets/controls",
            "_model_module_version": "1.5.0",
            "value": " 5/5 [00:10&lt;00:00,  2.08s/it]",
            "_view_count": null,
            "_view_module_version": "1.5.0",
            "description_tooltip": null,
            "_model_module": "@jupyter-widgets/controls",
            "layout": "IPY_MODEL_1a5f4b4c722c4248a22dedd5799b0064"
          }
        },
        "4d5f8226be354b22ba808c5fe6b55007": {
          "model_module": "@jupyter-widgets/controls",
          "model_name": "DescriptionStyleModel",
          "model_module_version": "1.5.0",
          "state": {
            "_view_name": "StyleView",
            "_model_name": "DescriptionStyleModel",
            "description_width": "",
            "_view_module": "@jupyter-widgets/base",
            "_model_module_version": "1.5.0",
            "_view_count": null,
            "_view_module_version": "1.2.0",
            "_model_module": "@jupyter-widgets/controls"
          }
        },
        "22639712b2694136a931921c11833a01": {
          "model_module": "@jupyter-widgets/base",
          "model_name": "LayoutModel",
          "model_module_version": "1.2.0",
          "state": {
            "_view_name": "LayoutView",
            "grid_template_rows": null,
            "right": null,
            "justify_content": null,
            "_view_module": "@jupyter-widgets/base",
            "overflow": null,
            "_model_module_version": "1.2.0",
            "_view_count": null,
            "flex_flow": null,
            "width": null,
            "min_width": null,
            "border": null,
            "align_items": null,
            "bottom": null,
            "_model_module": "@jupyter-widgets/base",
            "top": null,
            "grid_column": null,
            "overflow_y": null,
            "overflow_x": null,
            "grid_auto_flow": null,
            "grid_area": null,
            "grid_template_columns": null,
            "flex": null,
            "_model_name": "LayoutModel",
            "justify_items": null,
            "grid_row": null,
            "max_height": null,
            "align_content": null,
            "visibility": null,
            "align_self": null,
            "height": null,
            "min_height": null,
            "padding": null,
            "grid_auto_rows": null,
            "grid_gap": null,
            "max_width": null,
            "order": null,
            "_view_module_version": "1.2.0",
            "grid_template_areas": null,
            "object_position": null,
            "object_fit": null,
            "grid_auto_columns": null,
            "margin": null,
            "display": null,
            "left": null
          }
        },
        "a9f6f55603dd48789b3a4ca2693a3855": {
          "model_module": "@jupyter-widgets/controls",
          "model_name": "ProgressStyleModel",
          "model_module_version": "1.5.0",
          "state": {
            "_view_name": "StyleView",
            "_model_name": "ProgressStyleModel",
            "description_width": "",
            "_view_module": "@jupyter-widgets/base",
            "_model_module_version": "1.5.0",
            "_view_count": null,
            "_view_module_version": "1.2.0",
            "bar_color": null,
            "_model_module": "@jupyter-widgets/controls"
          }
        },
        "7ac087061d5c471d860480fc01b0264a": {
          "model_module": "@jupyter-widgets/base",
          "model_name": "LayoutModel",
          "model_module_version": "1.2.0",
          "state": {
            "_view_name": "LayoutView",
            "grid_template_rows": null,
            "right": null,
            "justify_content": null,
            "_view_module": "@jupyter-widgets/base",
            "overflow": null,
            "_model_module_version": "1.2.0",
            "_view_count": null,
            "flex_flow": null,
            "width": null,
            "min_width": null,
            "border": null,
            "align_items": null,
            "bottom": null,
            "_model_module": "@jupyter-widgets/base",
            "top": null,
            "grid_column": null,
            "overflow_y": null,
            "overflow_x": null,
            "grid_auto_flow": null,
            "grid_area": null,
            "grid_template_columns": null,
            "flex": null,
            "_model_name": "LayoutModel",
            "justify_items": null,
            "grid_row": null,
            "max_height": null,
            "align_content": null,
            "visibility": null,
            "align_self": null,
            "height": null,
            "min_height": null,
            "padding": null,
            "grid_auto_rows": null,
            "grid_gap": null,
            "max_width": null,
            "order": null,
            "_view_module_version": "1.2.0",
            "grid_template_areas": null,
            "object_position": null,
            "object_fit": null,
            "grid_auto_columns": null,
            "margin": null,
            "display": null,
            "left": null
          }
        },
        "d96abc39a9e5462ca02b70bb4e6c2df5": {
          "model_module": "@jupyter-widgets/controls",
          "model_name": "DescriptionStyleModel",
          "model_module_version": "1.5.0",
          "state": {
            "_view_name": "StyleView",
            "_model_name": "DescriptionStyleModel",
            "description_width": "",
            "_view_module": "@jupyter-widgets/base",
            "_model_module_version": "1.5.0",
            "_view_count": null,
            "_view_module_version": "1.2.0",
            "_model_module": "@jupyter-widgets/controls"
          }
        },
        "1a5f4b4c722c4248a22dedd5799b0064": {
          "model_module": "@jupyter-widgets/base",
          "model_name": "LayoutModel",
          "model_module_version": "1.2.0",
          "state": {
            "_view_name": "LayoutView",
            "grid_template_rows": null,
            "right": null,
            "justify_content": null,
            "_view_module": "@jupyter-widgets/base",
            "overflow": null,
            "_model_module_version": "1.2.0",
            "_view_count": null,
            "flex_flow": null,
            "width": null,
            "min_width": null,
            "border": null,
            "align_items": null,
            "bottom": null,
            "_model_module": "@jupyter-widgets/base",
            "top": null,
            "grid_column": null,
            "overflow_y": null,
            "overflow_x": null,
            "grid_auto_flow": null,
            "grid_area": null,
            "grid_template_columns": null,
            "flex": null,
            "_model_name": "LayoutModel",
            "justify_items": null,
            "grid_row": null,
            "max_height": null,
            "align_content": null,
            "visibility": null,
            "align_self": null,
            "height": null,
            "min_height": null,
            "padding": null,
            "grid_auto_rows": null,
            "grid_gap": null,
            "max_width": null,
            "order": null,
            "_view_module_version": "1.2.0",
            "grid_template_areas": null,
            "object_position": null,
            "object_fit": null,
            "grid_auto_columns": null,
            "margin": null,
            "display": null,
            "left": null
          }
        },
        "5fced445151a4e899fd585ef66297ca6": {
          "model_module": "@jupyter-widgets/controls",
          "model_name": "HBoxModel",
          "model_module_version": "1.5.0",
          "state": {
            "_view_name": "HBoxView",
            "_dom_classes": [],
            "_model_name": "HBoxModel",
            "_view_module": "@jupyter-widgets/controls",
            "_model_module_version": "1.5.0",
            "_view_count": null,
            "_view_module_version": "1.5.0",
            "box_style": "",
            "layout": "IPY_MODEL_c846fc6ba5544dd2b6e4f7fef35c53e6",
            "_model_module": "@jupyter-widgets/controls",
            "children": [
              "IPY_MODEL_558a53b03c6949e0a137bb8b7ec96982",
              "IPY_MODEL_bdc439daaea042579992f7c7914ab023",
              "IPY_MODEL_0eef56403d07452c944da130b946b932"
            ]
          }
        },
        "c846fc6ba5544dd2b6e4f7fef35c53e6": {
          "model_module": "@jupyter-widgets/base",
          "model_name": "LayoutModel",
          "model_module_version": "1.2.0",
          "state": {
            "_view_name": "LayoutView",
            "grid_template_rows": null,
            "right": null,
            "justify_content": null,
            "_view_module": "@jupyter-widgets/base",
            "overflow": null,
            "_model_module_version": "1.2.0",
            "_view_count": null,
            "flex_flow": null,
            "width": null,
            "min_width": null,
            "border": null,
            "align_items": null,
            "bottom": null,
            "_model_module": "@jupyter-widgets/base",
            "top": null,
            "grid_column": null,
            "overflow_y": null,
            "overflow_x": null,
            "grid_auto_flow": null,
            "grid_area": null,
            "grid_template_columns": null,
            "flex": null,
            "_model_name": "LayoutModel",
            "justify_items": null,
            "grid_row": null,
            "max_height": null,
            "align_content": null,
            "visibility": null,
            "align_self": null,
            "height": null,
            "min_height": null,
            "padding": null,
            "grid_auto_rows": null,
            "grid_gap": null,
            "max_width": null,
            "order": null,
            "_view_module_version": "1.2.0",
            "grid_template_areas": null,
            "object_position": null,
            "object_fit": null,
            "grid_auto_columns": null,
            "margin": null,
            "display": null,
            "left": null
          }
        },
        "558a53b03c6949e0a137bb8b7ec96982": {
          "model_module": "@jupyter-widgets/controls",
          "model_name": "HTMLModel",
          "model_module_version": "1.5.0",
          "state": {
            "_view_name": "HTMLView",
            "style": "IPY_MODEL_1fea79f46bd64f92932c26cfc871f4ad",
            "_dom_classes": [],
            "description": "",
            "_model_name": "HTMLModel",
            "placeholder": "​",
            "_view_module": "@jupyter-widgets/controls",
            "_model_module_version": "1.5.0",
            "value": "100%",
            "_view_count": null,
            "_view_module_version": "1.5.0",
            "description_tooltip": null,
            "_model_module": "@jupyter-widgets/controls",
            "layout": "IPY_MODEL_83479d5f145545a5b7915e2e12942ff5"
          }
        },
        "bdc439daaea042579992f7c7914ab023": {
          "model_module": "@jupyter-widgets/controls",
          "model_name": "FloatProgressModel",
          "model_module_version": "1.5.0",
          "state": {
            "_view_name": "ProgressView",
            "style": "IPY_MODEL_3d8fbcad0d174f72a051299f4fca98ab",
            "_dom_classes": [],
            "description": "",
            "_model_name": "FloatProgressModel",
            "bar_style": "success",
            "max": 5,
            "_view_module": "@jupyter-widgets/controls",
            "_model_module_version": "1.5.0",
            "value": 5,
            "_view_count": null,
            "_view_module_version": "1.5.0",
            "orientation": "horizontal",
            "min": 0,
            "description_tooltip": null,
            "_model_module": "@jupyter-widgets/controls",
            "layout": "IPY_MODEL_243f7a4f63aa4c3eb32c977b5fe5bae9"
          }
        },
        "0eef56403d07452c944da130b946b932": {
          "model_module": "@jupyter-widgets/controls",
          "model_name": "HTMLModel",
          "model_module_version": "1.5.0",
          "state": {
            "_view_name": "HTMLView",
            "style": "IPY_MODEL_8531440bcaf942f28f590f008d758313",
            "_dom_classes": [],
            "description": "",
            "_model_name": "HTMLModel",
            "placeholder": "​",
            "_view_module": "@jupyter-widgets/controls",
            "_model_module_version": "1.5.0",
            "value": " 5/5 [00:00&lt;00:00, 17.66it/s]",
            "_view_count": null,
            "_view_module_version": "1.5.0",
            "description_tooltip": null,
            "_model_module": "@jupyter-widgets/controls",
            "layout": "IPY_MODEL_4f578ad57e5f4d9f9d81b687cdb6957a"
          }
        },
        "1fea79f46bd64f92932c26cfc871f4ad": {
          "model_module": "@jupyter-widgets/controls",
          "model_name": "DescriptionStyleModel",
          "model_module_version": "1.5.0",
          "state": {
            "_view_name": "StyleView",
            "_model_name": "DescriptionStyleModel",
            "description_width": "",
            "_view_module": "@jupyter-widgets/base",
            "_model_module_version": "1.5.0",
            "_view_count": null,
            "_view_module_version": "1.2.0",
            "_model_module": "@jupyter-widgets/controls"
          }
        },
        "83479d5f145545a5b7915e2e12942ff5": {
          "model_module": "@jupyter-widgets/base",
          "model_name": "LayoutModel",
          "model_module_version": "1.2.0",
          "state": {
            "_view_name": "LayoutView",
            "grid_template_rows": null,
            "right": null,
            "justify_content": null,
            "_view_module": "@jupyter-widgets/base",
            "overflow": null,
            "_model_module_version": "1.2.0",
            "_view_count": null,
            "flex_flow": null,
            "width": null,
            "min_width": null,
            "border": null,
            "align_items": null,
            "bottom": null,
            "_model_module": "@jupyter-widgets/base",
            "top": null,
            "grid_column": null,
            "overflow_y": null,
            "overflow_x": null,
            "grid_auto_flow": null,
            "grid_area": null,
            "grid_template_columns": null,
            "flex": null,
            "_model_name": "LayoutModel",
            "justify_items": null,
            "grid_row": null,
            "max_height": null,
            "align_content": null,
            "visibility": null,
            "align_self": null,
            "height": null,
            "min_height": null,
            "padding": null,
            "grid_auto_rows": null,
            "grid_gap": null,
            "max_width": null,
            "order": null,
            "_view_module_version": "1.2.0",
            "grid_template_areas": null,
            "object_position": null,
            "object_fit": null,
            "grid_auto_columns": null,
            "margin": null,
            "display": null,
            "left": null
          }
        },
        "3d8fbcad0d174f72a051299f4fca98ab": {
          "model_module": "@jupyter-widgets/controls",
          "model_name": "ProgressStyleModel",
          "model_module_version": "1.5.0",
          "state": {
            "_view_name": "StyleView",
            "_model_name": "ProgressStyleModel",
            "description_width": "",
            "_view_module": "@jupyter-widgets/base",
            "_model_module_version": "1.5.0",
            "_view_count": null,
            "_view_module_version": "1.2.0",
            "bar_color": null,
            "_model_module": "@jupyter-widgets/controls"
          }
        },
        "243f7a4f63aa4c3eb32c977b5fe5bae9": {
          "model_module": "@jupyter-widgets/base",
          "model_name": "LayoutModel",
          "model_module_version": "1.2.0",
          "state": {
            "_view_name": "LayoutView",
            "grid_template_rows": null,
            "right": null,
            "justify_content": null,
            "_view_module": "@jupyter-widgets/base",
            "overflow": null,
            "_model_module_version": "1.2.0",
            "_view_count": null,
            "flex_flow": null,
            "width": null,
            "min_width": null,
            "border": null,
            "align_items": null,
            "bottom": null,
            "_model_module": "@jupyter-widgets/base",
            "top": null,
            "grid_column": null,
            "overflow_y": null,
            "overflow_x": null,
            "grid_auto_flow": null,
            "grid_area": null,
            "grid_template_columns": null,
            "flex": null,
            "_model_name": "LayoutModel",
            "justify_items": null,
            "grid_row": null,
            "max_height": null,
            "align_content": null,
            "visibility": null,
            "align_self": null,
            "height": null,
            "min_height": null,
            "padding": null,
            "grid_auto_rows": null,
            "grid_gap": null,
            "max_width": null,
            "order": null,
            "_view_module_version": "1.2.0",
            "grid_template_areas": null,
            "object_position": null,
            "object_fit": null,
            "grid_auto_columns": null,
            "margin": null,
            "display": null,
            "left": null
          }
        },
        "8531440bcaf942f28f590f008d758313": {
          "model_module": "@jupyter-widgets/controls",
          "model_name": "DescriptionStyleModel",
          "model_module_version": "1.5.0",
          "state": {
            "_view_name": "StyleView",
            "_model_name": "DescriptionStyleModel",
            "description_width": "",
            "_view_module": "@jupyter-widgets/base",
            "_model_module_version": "1.5.0",
            "_view_count": null,
            "_view_module_version": "1.2.0",
            "_model_module": "@jupyter-widgets/controls"
          }
        },
        "4f578ad57e5f4d9f9d81b687cdb6957a": {
          "model_module": "@jupyter-widgets/base",
          "model_name": "LayoutModel",
          "model_module_version": "1.2.0",
          "state": {
            "_view_name": "LayoutView",
            "grid_template_rows": null,
            "right": null,
            "justify_content": null,
            "_view_module": "@jupyter-widgets/base",
            "overflow": null,
            "_model_module_version": "1.2.0",
            "_view_count": null,
            "flex_flow": null,
            "width": null,
            "min_width": null,
            "border": null,
            "align_items": null,
            "bottom": null,
            "_model_module": "@jupyter-widgets/base",
            "top": null,
            "grid_column": null,
            "overflow_y": null,
            "overflow_x": null,
            "grid_auto_flow": null,
            "grid_area": null,
            "grid_template_columns": null,
            "flex": null,
            "_model_name": "LayoutModel",
            "justify_items": null,
            "grid_row": null,
            "max_height": null,
            "align_content": null,
            "visibility": null,
            "align_self": null,
            "height": null,
            "min_height": null,
            "padding": null,
            "grid_auto_rows": null,
            "grid_gap": null,
            "max_width": null,
            "order": null,
            "_view_module_version": "1.2.0",
            "grid_template_areas": null,
            "object_position": null,
            "object_fit": null,
            "grid_auto_columns": null,
            "margin": null,
            "display": null,
            "left": null
          }
        }
      }
    }
  },
  "cells": [
    {
      "cell_type": "code",
      "source": [
        "from google.colab import drive\n",
        "drive.mount('/content/drive')"
      ],
      "metadata": {
        "colab": {
          "base_uri": "https://localhost:8080/"
        },
        "id": "rXyCJZfqsSBu",
        "outputId": "138853f7-8adc-4310-b17b-9bd4435a9fd3"
      },
      "execution_count": null,
      "outputs": [
        {
          "output_type": "stream",
          "name": "stdout",
          "text": [
            "Mounted at /content/drive\n"
          ]
        }
      ]
    },
    {
      "cell_type": "code",
      "source": [
        "import numpy as np\n",
        "import numpy.random as npr\n",
        "import pandas as pd\n",
        "from pathlib import Path\n",
        "import matplotlib.pyplot as plt\n",
        "import os\n",
        "import cv2\n",
        "import pickle\n",
        "from tqdm.notebook import tqdm"
      ],
      "metadata": {
        "id": "bSk9SUQDp3Eo"
      },
      "execution_count": null,
      "outputs": []
    },
    {
      "cell_type": "markdown",
      "source": [
        "### Settings"
      ],
      "metadata": {
        "id": "3RBKxWjnrFHu"
      }
    },
    {
      "cell_type": "code",
      "source": [
        "# Для тренировки или для теста генерируются данные\n",
        "is_train = True\n",
        "\n",
        "# Количество изображений\n",
        "images_n = 5\n",
        "\n",
        "# Рандомно ли генерируется угол\n",
        "is_random = True\n",
        "\n",
        "# Параметры генерации изображения\n",
        "cracks_n = 1\n",
        "nx = 128\n",
        "ny = 128\n",
        "x0 = 0\n",
        "y0 = 0\n",
        "dx = 2\n",
        "dy = 2\n",
        "\n",
        "# Задание среднего значения и дисперсии для длины и ширины\n",
        "length_mean = 120.0\n",
        "length_dispersion = 10.0\n",
        "depth_mean = 6.0\n",
        "depth_dispersion = 1.0\n",
        "\n",
        "# Значения для угла поворота\n",
        "alpha_min = 1\n",
        "alpha_max = 179\n",
        "\n",
        "# Угол раскрытия\n",
        "beta = 0.0\n",
        "# Доминирующа частота\n",
        "nu0 = 20.0\n",
        "# Средняя скорость в референтной модели\n",
        "average_speed = 3000.0"
      ],
      "metadata": {
        "id": "8VWk91PuqEpn"
      },
      "execution_count": null,
      "outputs": []
    },
    {
      "cell_type": "markdown",
      "source": [
        "### Util functions"
      ],
      "metadata": {
        "id": "vQsT_AexrIzs"
      }
    },
    {
      "cell_type": "code",
      "source": [
        "def is_in_rectangle(pi, pc, depth, length, a1, a2):\n",
        "    dist1 = abs(a1*pi[0] - pi[1] + (pc[1] - a1*pc[0])) / np.sqrt(a1*a1 + 1)\n",
        "    dist2 = abs(a2*pi[0] - pi[1] + (pc[1] - a2*pc[0])) / np.sqrt(a2*a2 + 1)\n",
        "    return dist1 <= depth/2 and dist2 <= length/2\n",
        "\n",
        "\n",
        "def relative_square(pi, pc, depth, length, a1, a2, dx, dy):\n",
        "    all_points = 10\n",
        "    interior_points = 0\n",
        "\n",
        "    for i in range(all_points):\n",
        "        pr = [\n",
        "            npr.uniform(pi[0], pi[0] + dx),\n",
        "            npr.uniform(pi[1], pi[1] + dy)\n",
        "        ]\n",
        "        if is_in_rectangle(pr, pc, depth, length, a1, a2):\n",
        "            interior_points += 1\n",
        "\n",
        "    return interior_points / all_points\n",
        "\n",
        "\n",
        "def calculate_impulse(nu0, w):\n",
        "    nu = 0.5 * w / np.pi\n",
        "    g = 2.0 * nu*nu / (np.sqrt(np.pi) * nu0*nu0)\n",
        "    return np.exp(-nu*nu / (nu0*nu0)) * g\n",
        "\n",
        "\n",
        "def show_images(data, n_max=5, cmap='seismic'):\n",
        "    to_show = min(len(data), n_max)\n",
        "    plt.figure(figsize=(4*to_show, 4))\n",
        "    for i, image in enumerate(data[:to_show]):\n",
        "        plt.subplot(1, to_show, i+1)\n",
        "        plt.imshow(image, cmap=cmap)\n",
        "        plt.axis('off')"
      ],
      "metadata": {
        "id": "epLER5epp5fF"
      },
      "execution_count": null,
      "outputs": []
    },
    {
      "cell_type": "markdown",
      "source": [
        "### Generating indicator function"
      ],
      "metadata": {
        "id": "Zddp8TtosFwH"
      }
    },
    {
      "cell_type": "code",
      "execution_count": null,
      "metadata": {
        "id": "NnmSAX2_pspd"
      },
      "outputs": [],
      "source": [
        "def generate_indicator():\n",
        "\n",
        "    # Значения индикаторной функции\n",
        "    indicator = np.zeros((images_n, ny, nx), dtype=np.float32)\n",
        "\n",
        "    # Итерация по изображениям\n",
        "    for i in tqdm(range(images_n)):\n",
        "\n",
        "        # Текщий угол\n",
        "        alpha_mean = npr.randint(alpha_min, alpha_max) if is_random else i\n",
        "\n",
        "        # Итерация по трещинам\n",
        "        for j in range(cracks_n):\n",
        "            # Равномерное распределние для координат центра\n",
        "            pc = [\n",
        "                npr.uniform(x0 + length_mean, x0 + nx*dx - length_mean),\n",
        "                npr.uniform(y0 + length_mean, y0 + ny*dy - length_mean)\n",
        "            ]\n",
        "            # Генерация значения длины и ширины через распределение Гаусса\n",
        "            length = npr.normal(length_mean, length_dispersion)\n",
        "            depth = npr.normal(depth_mean, depth_dispersion)\n",
        "            # Генерация угла через распределение Гаусса (и перевод в радианы)\n",
        "            alpha = npr.normal(np.radians(alpha_mean), np.radians(alpha_dispersion))\n",
        "            # Коэффициенты прямых\n",
        "            tan_alpha = np.tan(alpha)\n",
        "            a1 = -1 / (tan_alpha + 1e-15)\n",
        "            a2 = tan_alpha\n",
        "            # Заполнение индикаторной функции\n",
        "            for iy in range(ny):\n",
        "                for ix in range(nx):\n",
        "                    pi = [x0 + ix*dx, y0 + iy*dy]\n",
        "                    indicator[i][iy][ix] += relative_square(pi, pc, depth, length, a1, a2, dx, dy)\n",
        "\n",
        "    return indicator"
      ]
    },
    {
      "cell_type": "markdown",
      "source": [
        "### Generating images"
      ],
      "metadata": {
        "id": "FpmziusfsKJb"
      }
    },
    {
      "cell_type": "code",
      "source": [
        "def generate_images(ind):\n",
        "\n",
        "    half_nx = int(nx / 2)\n",
        "    half_ny = int(ny / 2)\n",
        "    dpx = 2.0 * np.pi / (dx * (nx - 1))\n",
        "    dpy = 2.0 * np.pi / (dy * (ny - 1))\n",
        "    px = np.zeros(nx)\n",
        "    py = np.zeros(ny)\n",
        "\n",
        "    w = np.zeros((ny, nx), dtype=np.complex128)\n",
        "    fw = np.zeros((ny, nx), dtype=np.complex128)\n",
        "    cfw = np.zeros((ny, nx), dtype=np.complex128)\n",
        "    images = np.zeros((images_n, ny, nx))\n",
        "\n",
        "    # Заполнение px и py\n",
        "    for i in range(half_nx):\n",
        "        px[i] = dpx * i\n",
        "    if half_nx % 2 == 1:\n",
        "        px[half_nx] = half_nx * dpx\n",
        "    for i in range(half_nx):\n",
        "        px[half_nx + i] = half_nx * dpx - i * dpx\n",
        "    for i in range(half_ny):\n",
        "        py[i] = dpy * i\n",
        "    if half_ny % 2 == 1:\n",
        "        py[half_ny] = half_ny * dpy\n",
        "    for i in range(half_ny):\n",
        "        py[half_ny + i] = half_ny * dpy - i * dpy\n",
        "\n",
        "    # Подсчёт омега\n",
        "    for ix in range(nx):\n",
        "        for iy in range(ny):\n",
        "            w[iy][ix] = np.sqrt(py[iy]*py[iy] + px[ix]*px[ix])\n",
        "            w[iy][ix] *= (average_speed / (2.0 * np.cos(beta)))\n",
        "\n",
        "    # Подсчёт импульса\n",
        "    for iy in range(ny):\n",
        "        for ix in range(nx):\n",
        "            fw[iy][ix] = calculate_impulse(nu0, w[iy][ix])\n",
        "\n",
        "    # Итерация по изображениям\n",
        "    for i in tqdm(range(images_n)):\n",
        "\n",
        "        # 2D преобразование фурье от DFN модели\n",
        "        find = np.fft.fft2(ind[i])\n",
        "\n",
        "        # Произведение фурье образа DFN модели и импульса\n",
        "        for iy in range(ny):\n",
        "            for ix in range(nx):\n",
        "                cfw[iy][ix] = fw[iy][ix] * find[iy][ix]\n",
        "\n",
        "        # Обратное 2D преобразование фурье\n",
        "        cf = np.fft.ifft2(cfw)\n",
        "\n",
        "        # Взятие целой части и модуля\n",
        "        for iy in range(ny):\n",
        "            for ix in range(nx):\n",
        "                images[i][iy][ix] = abs(cf[iy][ix].real)\n",
        "\n",
        "    return images"
      ],
      "metadata": {
        "id": "J9thg3fZqNvg"
      },
      "execution_count": null,
      "outputs": []
    },
    {
      "cell_type": "markdown",
      "source": [
        "### Main"
      ],
      "metadata": {
        "id": "FR-sar1utfwY"
      }
    },
    {
      "cell_type": "code",
      "source": [
        "indicator = generate_indicator()"
      ],
      "metadata": {
        "id": "NZBfTV3BtfGj",
        "colab": {
          "base_uri": "https://localhost:8080/",
          "height": 49,
          "referenced_widgets": [
            "7f7a557e55f245f5a3e66a793bf332a3",
            "edf0e9a428844c9ca524e5a9e5b784bc",
            "96ef4f5b765149f1b2ea56c7ff056fbc",
            "5a6aa297ac204451b72664050d398eff",
            "442173be66aa47a78702019a98983109",
            "4d5f8226be354b22ba808c5fe6b55007",
            "22639712b2694136a931921c11833a01",
            "a9f6f55603dd48789b3a4ca2693a3855",
            "7ac087061d5c471d860480fc01b0264a",
            "d96abc39a9e5462ca02b70bb4e6c2df5",
            "1a5f4b4c722c4248a22dedd5799b0064"
          ]
        },
        "outputId": "b0274530-3fa3-462d-af31-8869dcaa25fb"
      },
      "execution_count": null,
      "outputs": [
        {
          "output_type": "display_data",
          "data": {
            "application/vnd.jupyter.widget-view+json": {
              "model_id": "7f7a557e55f245f5a3e66a793bf332a3",
              "version_minor": 0,
              "version_major": 2
            },
            "text/plain": [
              "  0%|          | 0/5 [00:00<?, ?it/s]"
            ]
          },
          "metadata": {}
        }
      ]
    },
    {
      "cell_type": "code",
      "source": [
        "images = generate_images(indicator)"
      ],
      "metadata": {
        "id": "vLvxjreIt4Hs",
        "colab": {
          "base_uri": "https://localhost:8080/",
          "height": 49,
          "referenced_widgets": [
            "5fced445151a4e899fd585ef66297ca6",
            "c846fc6ba5544dd2b6e4f7fef35c53e6",
            "558a53b03c6949e0a137bb8b7ec96982",
            "bdc439daaea042579992f7c7914ab023",
            "0eef56403d07452c944da130b946b932",
            "1fea79f46bd64f92932c26cfc871f4ad",
            "83479d5f145545a5b7915e2e12942ff5",
            "3d8fbcad0d174f72a051299f4fca98ab",
            "243f7a4f63aa4c3eb32c977b5fe5bae9",
            "8531440bcaf942f28f590f008d758313",
            "4f578ad57e5f4d9f9d81b687cdb6957a"
          ]
        },
        "outputId": "3470b7ba-1322-4ea4-dc43-0138ca8a5df8"
      },
      "execution_count": null,
      "outputs": [
        {
          "output_type": "display_data",
          "data": {
            "application/vnd.jupyter.widget-view+json": {
              "model_id": "5fced445151a4e899fd585ef66297ca6",
              "version_minor": 0,
              "version_major": 2
            },
            "text/plain": [
              "  0%|          | 0/5 [00:00<?, ?it/s]"
            ]
          },
          "metadata": {}
        }
      ]
    },
    {
      "cell_type": "code",
      "source": [
        "images.shape"
      ],
      "metadata": {
        "colab": {
          "base_uri": "https://localhost:8080/"
        },
        "id": "nrLhiBXru19r",
        "outputId": "df1e9ba8-24da-4fca-e95d-afdf542b2f8e"
      },
      "execution_count": null,
      "outputs": [
        {
          "output_type": "execute_result",
          "data": {
            "text/plain": [
              "(5, 128, 128)"
            ]
          },
          "metadata": {},
          "execution_count": 20
        }
      ]
    },
    {
      "cell_type": "markdown",
      "source": [
        "### Save data"
      ],
      "metadata": {
        "id": "NDd6EedcWYR_"
      }
    },
    {
      "cell_type": "code",
      "source": [
        "data_subfolder = 'train' if is_train else 'test'\n",
        "\n",
        "data_folder = Path(f'/content/drive/MyDrive/Data/Cracks/{data_subfolder}/')\n",
        "data_folder.mkdir(parents=True, exist_ok=True)\n",
        "\n",
        "images_path = os.path.join(data_folder, 'images.pickle')\n",
        "masks_path = os.path.join(data_folder, 'masks.pickle')"
      ],
      "metadata": {
        "id": "Yn_vKKWAWvLb"
      },
      "execution_count": null,
      "outputs": []
    },
    {
      "cell_type": "code",
      "source": [
        "with open(masks_path, 'wb') as f:\n",
        "    pickle.dump(indicator, f)\n",
        "\n",
        "with open(images_path, 'wb') as f:\n",
        "    pickle.dump(images, f)"
      ],
      "metadata": {
        "id": "10-H4tnAyd0s"
      },
      "execution_count": null,
      "outputs": []
    },
    {
      "cell_type": "markdown",
      "source": [
        "### Visualize"
      ],
      "metadata": {
        "id": "90dsRWVrwGVm"
      }
    },
    {
      "cell_type": "code",
      "source": [
        "show_images(images)"
      ],
      "metadata": {
        "colab": {
          "base_uri": "https://localhost:8080/",
          "height": 223
        },
        "id": "Oi5RaZgKvKsW",
        "outputId": "6c69d2b0-9f70-4957-bb86-5caed7035240"
      },
      "execution_count": null,
      "outputs": [
        {
          "output_type": "display_data",
          "data": {
            "image/png": "[encoded data removed]",
            "text/plain": [
              "<Figure size 1440x288 with 5 Axes>"
            ]
          },
          "metadata": {
            "needs_background": "light"
          }
        }
      ]
    },
    {
      "cell_type": "code",
      "source": [
        "show_images(indicator, cmap='binary')"
      ],
      "metadata": {
        "colab": {
          "base_uri": "https://localhost:8080/",
          "height": 228
        },
        "id": "H-niZ6v3A_hM",
        "outputId": "86eafff1-0990-467e-cb32-236c5f715da1"
      },
      "execution_count": null,
      "outputs": [
        {
          "output_type": "display_data",
          "data": {
            "image/png": "[encoded data removed]",
            "text/plain": [
              "<Figure size 864x288 with 3 Axes>"
            ]
          },
          "metadata": {
            "needs_background": "light"
          }
        }
      ]
    },
    {
      "cell_type": "code",
      "source": [
        "image = np.zeros((128, 128), dtype=np.float32)\n",
        "\n",
        "image = cv2.line(image, (50, 50), (80, 100), color=255, thickness=1)\n",
        "\n",
        "show_images([image], cmap='binary')"
      ],
      "metadata": {
        "colab": {
          "base_uri": "https://localhost:8080/",
          "height": 248
        },
        "id": "PbxwhCjmQ-8i",
        "outputId": "46fbb226-802f-40d4-d3de-c3d5b3a2f081"
      },
      "execution_count": null,
      "outputs": [
        {
          "output_type": "display_data",
          "data": {
            "image/png": "[encoded data removed]",
            "text/plain": [
              "<Figure size 288x288 with 1 Axes>"
            ]
          },
          "metadata": {
            "needs_background": "light"
          }
        }
      ]
    }
  ]
}
